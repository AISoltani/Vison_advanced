{
 "cells": [
  {
   "cell_type": "code",
   "execution_count": null,
   "metadata": {
    "collapsed": true
   },
   "outputs": [],
   "source": [
    "# Setup\n",
    "from time import time\n",
    "import numpy as np\n",
    "import matplotlib.pyplot as plt\n",
    "from matplotlib import rc\n",
    "from skimage import io\n",
    "\n",
    "from __future__ import print_function\n",
    "\n",
    "%matplotlib inline\n",
    "plt.rcParams['figure.figsize'] = (15.0, 12.0) # set default size of plots\n",
    "plt.rcParams['image.interpolation'] = 'nearest'\n",
    "plt.rcParams['image.cmap'] = 'gray'\n",
    "\n",
    "# for auto-reloading extenrnal modules\n",
    "%load_ext autoreload\n",
    "%autoreload 2"
   ]
  },
  {
   "cell_type": "code",
   "execution_count": null,
   "metadata": {
    "collapsed": true
   },
   "outputs": [],
   "source": [
    "# 1\n",
    "# Generate random data points for clustering\n",
    "\n",
    "# Set seed for consistency\n",
    "np.random.seed(0)\n",
    "\n",
    "# Cluster 1\n",
    "mean1 = [-1, 0]\n",
    "cov1 = [[0.1, 0], [0, 0.1]]\n",
    "X1 = np.random.multivariate_normal(mean1, cov1, 100)\n",
    "\n",
    "# Cluster 2\n",
    "mean2 = [0, 1]\n",
    "cov2 = [[0.1, 0], [0, 0.1]]\n",
    "X2 = np.random.multivariate_normal(mean2, cov2, 100)\n",
    "\n",
    "# Cluster 3\n",
    "mean3 = [1, 0]\n",
    "cov3 = [[0.1, 0], [0, 0.1]]\n",
    "X3 = np.random.multivariate_normal(mean3, cov3, 100)\n",
    "\n",
    "# Cluster 4\n",
    "mean4 = [0, -1]\n",
    "cov4 = [[0.1, 0], [0, 0.1]]\n",
    "X4 = np.random.multivariate_normal(mean4, cov4, 100)\n",
    "\n",
    "# Merge two sets of data points\n",
    "X = np.concatenate((X1, X2, X3, X4))\n",
    "\n",
    "# Plot data points\n",
    "plt.scatter(X[:, 0], X[:, 1])\n",
    "plt.axis('equal')\n",
    "plt.show()"
   ]
  },
  {
   "cell_type": "code",
   "execution_count": null,
   "metadata": {
    "collapsed": true
   },
   "outputs": [],
   "source": [
    "# 1.1\n",
    "from segmentation import kmeans\n",
    "\n",
    "np.random.seed(0)\n",
    "start = time()\n",
    "assignments = kmeans(X, 4)\n",
    "end = time()\n",
    "\n",
    "kmeans_runtime = end - start\n",
    "\n",
    "print(\"kmeans running time: %f seconds.\" % kmeans_runtime)\n",
    "\n",
    "for i in range(4):\n",
    "    cluster_i = X[assignments==i]\n",
    "    plt.scatter(cluster_i[:, 0], cluster_i[:, 1])\n",
    "\n",
    "plt.axis('equal')\n",
    "plt.show()"
   ]
  },
  {
   "cell_type": "code",
   "execution_count": null,
   "metadata": {
    "collapsed": true
   },
   "outputs": [],
   "source": [
    "# 1.2\n",
    "from segmentation import kmeans_fast\n",
    "\n",
    "np.random.seed(0)\n",
    "start = time()\n",
    "assignments = kmeans_fast(X, 4)\n",
    "end = time()\n",
    "\n",
    "kmeans_fast_runtime = end - start\n",
    "print(\"kmeans running time: %f seconds.\" % kmeans_fast_runtime)\n",
    "print(\"%f times faster!\" % (kmeans_runtime / kmeans_fast_runtime))\n",
    "\n",
    "for i in range(4):\n",
    "    cluster_i = X[assignments==i]\n",
    "    plt.scatter(cluster_i[:, 0], cluster_i[:, 1])\n",
    "\n",
    "plt.axis('equal')\n",
    "plt.show()"
   ]
  },
  {
   "cell_type": "code",
   "execution_count": null,
   "metadata": {
    "collapsed": true
   },
   "outputs": [],
   "source": [
    "# 1.3\n",
    "from segmentation import hierarchical_clustering\n",
    "\n",
    "start = time()\n",
    "assignments = hierarchical_clustering(X, 4)\n",
    "end = time()\n",
    "\n",
    "print(\"hierarchical_clustering running time: %f seconds.\" % (end - start))\n",
    "\n",
    "for i in range(4):\n",
    "    cluster_i = X[assignments==i]\n",
    "    plt.scatter(cluster_i[:, 0], cluster_i[:, 1])\n",
    "\n",
    "plt.axis('equal')\n",
    "plt.show()"
   ]
  },
  {
   "cell_type": "code",
   "execution_count": null,
   "metadata": {
    "collapsed": true
   },
   "outputs": [],
   "source": [
    "# 2\n",
    "# Load and display image\n",
    "img = io.imread('train.jpg')\n",
    "H, W, C = img.shape\n",
    "\n",
    "plt.imshow(img)\n",
    "plt.axis('off')\n",
    "plt.show()"
   ]
  },
  {
   "cell_type": "code",
   "execution_count": null,
   "metadata": {
    "collapsed": true
   },
   "outputs": [],
   "source": [
    "# 2.1.1\n",
    "from segmentation import color_features\n",
    "np.random.seed(0)\n",
    "\n",
    "features = color_features(img)\n",
    "\n",
    "# Sanity checks\n",
    "assert features.shape == (H * W, C),\\\n",
    "    \"Incorrect shape! Check your implementation.\"\n",
    "\n",
    "assert features.dtype == np.float,\\\n",
    "    \"dtype of color_features should be float.\"\n",
    "\n",
    "assignments = kmeans_fast(features, 8)\n",
    "segments = assignments.reshape((H, W))\n",
    "\n",
    "# Display segmentation\n",
    "plt.imshow(segments, cmap='viridis')\n",
    "plt.axis('off')\n",
    "plt.show()"
   ]
  },
  {
   "cell_type": "code",
   "execution_count": null,
   "metadata": {
    "collapsed": true
   },
   "outputs": [],
   "source": [
    "# 2.1.2\n",
    "from utils import visualize_mean_color_image\n",
    "visualize_mean_color_image(img, segments)"
   ]
  },
  {
   "cell_type": "code",
   "execution_count": null,
   "metadata": {
    "collapsed": true
   },
   "outputs": [],
   "source": [
    "# 2.2.1\n",
    "from segmentation import color_position_features\n",
    "np.random.seed(0)\n",
    "\n",
    "features = color_position_features(img)\n",
    "\n",
    "# Sanity checks\n",
    "assert features.shape == (H * W, C + 2),\\\n",
    "    \"Incorrect shape! Check your implementation.\"\n",
    "\n",
    "assert features.dtype == np.float,\\\n",
    "    \"dtype of color_features should be float.\"\n",
    "\n",
    "assignments = kmeans_fast(features, 8)\n",
    "segments = assignments.reshape((H, W))\n",
    "\n",
    "# Display segmentation\n",
    "plt.imshow(segments, cmap='viridis')\n",
    "plt.axis('off')\n",
    "plt.show()"
   ]
  },
  {
   "cell_type": "code",
   "execution_count": null,
   "metadata": {
    "collapsed": true
   },
   "outputs": [],
   "source": [
    "# 2.2.2\n",
    "visualize_mean_color_image(img, segments)"
   ]
  },
  {
   "cell_type": "code",
   "execution_count": null,
   "metadata": {
    "collapsed": true
   },
   "outputs": [],
   "source": [
    "# Extra Credit\n",
    "from segmentation import my_features\n",
    "\n",
    "# Feel free to experiment with different images\n",
    "# and varying number of segments\n",
    "img = io.imread('train.jpg')\n",
    "num_segments = 8\n",
    "\n",
    "H, W, C = img.shape\n",
    "\n",
    "# Extract pixel-level features\n",
    "features = my_features(img)\n",
    "\n",
    "# Run clustering algorithm\n",
    "assignments = kmeans_fast(features, num_segments)\n",
    "\n",
    "segments = assignments.reshape((H, W))\n",
    "\n",
    "# Display segmentation\n",
    "plt.imshow(segments, cmap='viridis')\n",
    "plt.axis('off')\n",
    "plt.show()"
   ]
  },
  {
   "cell_type": "code",
   "execution_count": null,
   "metadata": {
    "collapsed": true
   },
   "outputs": [],
   "source": [
    "# 3.1\n",
    "from segmentation import compute_accuracy\n",
    "\n",
    "mask_gt = np.zeros((100, 100))\n",
    "mask = np.zeros((100, 100))\n",
    "\n",
    "# Test compute_accracy function\n",
    "mask_gt[20:50, 30:60] = 1\n",
    "mask[30:50, 30:60] = 1\n",
    "\n",
    "accuracy = compute_accuracy(mask_gt, mask)\n",
    "\n",
    "print('Accuracy: %0.2f' % (accuracy))\n",
    "if accuracy != 0.97:\n",
    "    print('Check your implementation!')\n",
    "\n",
    "plt.subplot(121)\n",
    "plt.imshow(mask_gt)\n",
    "plt.title('Ground Truth')\n",
    "plt.axis('off')\n",
    "\n",
    "plt.subplot(122)\n",
    "plt.imshow(mask)\n",
    "plt.title('Estimate')\n",
    "plt.axis('off')\n",
    "\n",
    "plt.show()"
   ]
  },
  {
   "cell_type": "code",
   "execution_count": null,
   "metadata": {
    "collapsed": true
   },
   "outputs": [],
   "source": [
    "# 3.2\n",
    "from utils import load_dataset, compute_segmentation\n",
    "from segmentation import evaluate_segmentation\n",
    "\n",
    "# Load a small segmentation dataset\n",
    "imgs, gt_masks = load_dataset('./data')\n",
    "\n",
    "# Set the parameters for segmentation.\n",
    "num_segments = 3\n",
    "clustering_fn = kmeans_fast\n",
    "feature_fn = color_features\n",
    "scale = 0.5\n",
    "\n",
    "mean_accuracy = 0.0\n",
    "\n",
    "segmentations = []\n",
    "\n",
    "for i, (img, gt_mask) in enumerate(zip(imgs, gt_masks)):\n",
    "    # Compute a segmentation for this image\n",
    "    segments = compute_segmentation(img, num_segments,\n",
    "                                    clustering_fn=clustering_fn,\n",
    "                                    feature_fn=feature_fn,\n",
    "                                    scale=scale)\n",
    "    \n",
    "    segmentations.append(segments)\n",
    "    \n",
    "    # Evaluate segmentation\n",
    "    accuracy = evaluate_segmentation(gt_mask, segments)\n",
    "    \n",
    "    print('Accuracy for image %d: %0.4f' %(i, accuracy))\n",
    "    mean_accuracy += accuracy\n",
    "    \n",
    "mean_accuracy = mean_accuracy / len(imgs)\n",
    "print('Mean accuracy: %0.4f' % mean_accuracy)"
   ]
  },
  {
   "cell_type": "code",
   "execution_count": null,
   "metadata": {
    "collapsed": true
   },
   "outputs": [],
   "source": [
    "# 3.3\n",
    "# Visualize segmentation results\n",
    "\n",
    "N = len(imgs)\n",
    "plt.figure(figsize=(15,60))\n",
    "for i in range(N):\n",
    "\n",
    "    plt.subplot(N, 3, (i * 3) + 1)\n",
    "    plt.imshow(imgs[i])\n",
    "    plt.axis('off')\n",
    "\n",
    "    plt.subplot(N, 3, (i * 3) + 2)\n",
    "    plt.imshow(gt_masks[i])\n",
    "    plt.axis('off')\n",
    "\n",
    "    plt.subplot(N, 3, (i * 3) + 3)\n",
    "    plt.imshow(segmentations[i], cmap='viridis')\n",
    "    plt.axis('off')\n",
    "\n",
    "plt.show()"
   ]
  }
 ],
 "metadata": {
  "kernelspec": {
   "display_name": "Python 3",
   "language": "python",
   "name": "python3"
  },
  "language_info": {
   "codemirror_mode": {
    "name": "ipython",
    "version": 3
   },
   "file_extension": ".py",
   "mimetype": "text/x-python",
   "name": "python",
   "nbconvert_exporter": "python",
   "pygments_lexer": "ipython3",
   "version": "3.6.2"
  }
 },
 "nbformat": 4,
 "nbformat_minor": 2
}
