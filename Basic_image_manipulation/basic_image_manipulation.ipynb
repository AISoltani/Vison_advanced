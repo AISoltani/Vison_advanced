{
 "cells": [
  {
   "cell_type": "code",
   "execution_count": null,
   "metadata": {
    "collapsed": true
   },
   "outputs": [],
   "source": [
    "#Imports the print function from newer versions of python\n",
    "from __future__ import print_function\n",
    "\n",
    "#Setup\n",
    "\n",
    "# The Random module for implements pseudo-random number generators\n",
    "import random \n",
    "\n",
    "# Numpy is the main package for scientific computing with Python. \n",
    "# This will be one of our most used libraries in this class\n",
    "import numpy as np\n",
    "\n",
    "\n",
    "#Imports all the methods in each of the files: linalg.py and imageManip.py\n",
    "from linalg import *\n",
    "from imageManip import *\n",
    "\n",
    "\n",
    "#Matplotlib is a useful plotting library for python \n",
    "import matplotlib.pyplot as plt\n",
    "# This code is to make matplotlib figures appear inline in the\n",
    "# notebook rather than in a new window.\n",
    "%matplotlib inline\n",
    "plt.rcParams['figure.figsize'] = (10.0, 8.0) # set default size of plots\n",
    "plt.rcParams['image.interpolation'] = 'nearest'\n",
    "plt.rcParams['image.cmap'] = 'gray'\n",
    "\n",
    "# Some more magic so that the notebook will reload external python modules;\n",
    "# see http://stackoverflow.com/questions/1907993/autoreload-of-modules-in-ipython\n",
    "%load_ext autoreload\n",
    "%autoreload 2\n",
    "%reload_ext autoreload"
   ]
  },
  {
   "cell_type": "code",
   "execution_count": null,
   "metadata": {
    "collapsed": true
   },
   "outputs": [],
   "source": [
    "# Question 1.1\n",
    "### YOUR CODE HERE\n",
    "pass\n",
    "### END CODE HERE\n",
    "print(\"M = \\n\", M)\n",
    "print(\"The size of M is: \", M.shape)\n",
    "print()\n",
    "print(\"a = \", a)\n",
    "print(\"The size of a is: \", a.shape)\n",
    "print()\n",
    "print(\"b = \", b)\n",
    "print(\"The size of b is: \", b.shape)"
   ]
  },
  {
   "cell_type": "code",
   "execution_count": null,
   "metadata": {
    "collapsed": true
   },
   "outputs": [],
   "source": [
    "# Question 1.2\n",
    "\n",
    "# Let's remove the spurious dimensions along vectors a and b to convert them both to row vectors:\n",
    "squeezed_a = np.squeeze(a)\n",
    "squeezed_b = np.squeeze(b)\n",
    "\n",
    "# Now, let's test out this dot product. Your answer should be 1.\n",
    "aDotB = dot_product(squeezed_a, squeezed_b)\n",
    "print(aDotB)"
   ]
  },
  {
   "cell_type": "code",
   "execution_count": null,
   "metadata": {
    "collapsed": true
   },
   "outputs": [],
   "source": [
    "# Question 1.3\n",
    "\n",
    "# Your answer should be $[[3], [9], [15], [21]]$ of shape(4, 1).\n",
    "ans = complicated_matrix_function(M, a, b)\n",
    "print(ans)\n",
    "print()\n",
    "print(\"The size is: \", ans.shape)"
   ]
  },
  {
   "cell_type": "code",
   "execution_count": null,
   "metadata": {
    "collapsed": true
   },
   "outputs": [],
   "source": [
    "# Question 1.4\n",
    "\n",
    "# Let's first only get the first singular value and print it out. It should be ~ 25.46.\n",
    "only_first_singular_value = get_singular_values(M, 1)\n",
    "print(only_first_singular_value)\n",
    "\n",
    "# Now, let's get the first two singular values.\n",
    "# Notice the first singular value is a lot larger than the second one.\n",
    "first_two_singular_values = get_singular_values(M, 2)\n",
    "print(first_two_singular_values)\n",
    "\n",
    "# Let's make sure that the first singular value in both is the same.\n",
    "assert only_first_singular_value[0] == first_two_singular_values[0]"
   ]
  },
  {
   "cell_type": "code",
   "execution_count": null,
   "metadata": {
    "collapsed": true
   },
   "outputs": [],
   "source": [
    "# Question 1.5\n",
    "\n",
    "M = np.matrix([[1,2,3],[4,5,6],[7,8,9]])\n",
    "val, vec = get_eigen_values_and_vectors(M[:,:3], 1)\n",
    "print(\"Values = \\n\", val)\n",
    "print(\"Vectors = \\n\", vec)\n",
    "val, vec = get_eigen_values_and_vectors(M[:,:3], 2)\n",
    "print(\"Values = \\n\", val)\n",
    "print(\"Vectors = \\n\", vec)"
   ]
  },
  {
   "cell_type": "code",
   "execution_count": null,
   "metadata": {
    "collapsed": true
   },
   "outputs": [],
   "source": [
    "# Part 2: image manipulation\n",
    "# Run this code to set the locations of the images we will be using. \n",
    "# You can change these paths to point to your own images if you want to try them out for fun.\n",
    "\n",
    "image1_path = './image1.jpg'\n",
    "image2_path = './image2.jpg'\n",
    "\n",
    "def display(img):\n",
    "    # Show image\n",
    "    plt.figure(figsize = (5,5))\n",
    "    plt.imshow(img)\n",
    "    plt.axis('off')\n",
    "    plt.show()"
   ]
  },
  {
   "cell_type": "code",
   "execution_count": null,
   "metadata": {
    "collapsed": true
   },
   "outputs": [],
   "source": [
    "# Question 2.1\n",
    "image1 = load(image1_path)\n",
    "image2 = load(image2_path)\n",
    "\n",
    "display(image1)\n",
    "display(image2)"
   ]
  },
  {
   "cell_type": "code",
   "execution_count": null,
   "metadata": {
    "collapsed": true
   },
   "outputs": [],
   "source": [
    "# Question 2.2\n",
    "new_image = dim_image(image1)\n",
    "display(new_image)"
   ]
  },
  {
   "cell_type": "code",
   "execution_count": null,
   "metadata": {
    "collapsed": true
   },
   "outputs": [],
   "source": [
    "# Question 2.3\n",
    "grey_image = convert_to_grey_scale(image1)\n",
    "display(grey_image)"
   ]
  },
  {
   "cell_type": "code",
   "execution_count": null,
   "metadata": {
    "collapsed": true
   },
   "outputs": [],
   "source": [
    "# Question 2.4\n",
    "without_red = rgb_exclusion(image1, 'R')\n",
    "without_blue = rgb_exclusion(image1, 'B')\n",
    "without_green = rgb_exclusion(image1, 'G')\n",
    "\n",
    "print(\"Below is the image without the red channel.\")\n",
    "display(without_red)\n",
    "\n",
    "print(\"Below is the image without the green channel.\")\n",
    "display(without_green)\n",
    "\n",
    "print(\"Below is the image without the blue channel.\")\n",
    "display(without_blue)"
   ]
  },
  {
   "cell_type": "code",
   "execution_count": null,
   "metadata": {
    "collapsed": true
   },
   "outputs": [],
   "source": [
    "# Question 2.5\n",
    "image_l = lab_decomposition(image1, 'L')\n",
    "image_a = lab_decomposition(image1, 'A')\n",
    "image_b = lab_decomposition(image1, 'B')\n",
    "\n",
    "\n",
    "print(\"Below is the image with only the L channel.\")\n",
    "display(image_l)\n",
    "\n",
    "print(\"Below is the image with only the A channel.\")\n",
    "display(image_a)\n",
    "\n",
    "print(\"Below is the image with only the B channel.\")\n",
    "display(image_b)"
   ]
  }
 ],
 "metadata": {
  "kernelspec": {
   "display_name": "Python 3",
   "language": "python",
   "name": "python3"
  },
  "language_info": {
   "codemirror_mode": {
    "name": "ipython",
    "version": 3
   },
   "file_extension": ".py",
   "mimetype": "text/x-python",
   "name": "python",
   "nbconvert_exporter": "python",
   "pygments_lexer": "ipython3",
   "version": "3.6.2"
  }
 },
 "nbformat": 4,
 "nbformat_minor": 2
}
